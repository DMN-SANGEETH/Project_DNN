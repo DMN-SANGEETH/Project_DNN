{
 "cells": [
  {
   "cell_type": "code",
   "execution_count": 38,
   "id": "00eaca4e",
   "metadata": {},
   "outputs": [],
   "source": [
    "import numpy as np\n",
    "\n",
    "data=np.load('data.npy')\n",
    "target=np.load('target.npy')"
   ]
  },
  {
   "cell_type": "code",
   "execution_count": 39,
   "id": "e646f2f0",
   "metadata": {},
   "outputs": [],
   "source": [
    "from keras.models import Sequential\n",
    "from keras.layers import Dense,Activation,Flatten\n",
    "from keras.layers import Conv2D,MaxPooling2D,Dropout,BatchNormalization"
   ]
  },
  {
   "cell_type": "code",
   "execution_count": 40,
   "id": "c2b91872",
   "metadata": {},
   "outputs": [
    {
     "name": "stdout",
     "output_type": "stream",
     "text": [
      "Model: \"sequential_5\"\n",
      "_________________________________________________________________\n",
      " Layer (type)                Output Shape              Param #   \n",
      "=================================================================\n",
      " conv2d_15 (Conv2D)          (None, 222, 222, 256)     2560      \n",
      "                                                                 \n",
      " batch_normalization_5 (Batc  (None, 222, 222, 256)    1024      \n",
      " hNormalization)                                                 \n",
      "                                                                 \n",
      " activation_15 (Activation)  (None, 222, 222, 256)     0         \n",
      "                                                                 \n",
      " max_pooling2d_15 (MaxPoolin  (None, 111, 111, 256)    0         \n",
      " g2D)                                                            \n",
      "                                                                 \n",
      " conv2d_16 (Conv2D)          (None, 109, 109, 128)     295040    \n",
      "                                                                 \n",
      " activation_16 (Activation)  (None, 109, 109, 128)     0         \n",
      "                                                                 \n",
      " max_pooling2d_16 (MaxPoolin  (None, 54, 54, 128)      0         \n",
      " g2D)                                                            \n",
      "                                                                 \n",
      " conv2d_17 (Conv2D)          (None, 52, 52, 64)        73792     \n",
      "                                                                 \n",
      " activation_17 (Activation)  (None, 52, 52, 64)        0         \n",
      "                                                                 \n",
      " max_pooling2d_17 (MaxPoolin  (None, 26, 26, 64)       0         \n",
      " g2D)                                                            \n",
      "                                                                 \n",
      " flatten_5 (Flatten)         (None, 43264)             0         \n",
      "                                                                 \n",
      " dropout_5 (Dropout)         (None, 43264)             0         \n",
      "                                                                 \n",
      " dense_10 (Dense)            (None, 32)                1384480   \n",
      "                                                                 \n",
      " dense_11 (Dense)            (None, 2)                 66        \n",
      "                                                                 \n",
      "=================================================================\n",
      "Total params: 1,756,962\n",
      "Trainable params: 1,756,450\n",
      "Non-trainable params: 512\n",
      "_________________________________________________________________\n"
     ]
    }
   ],
   "source": [
    "model=Sequential()\n",
    "\n",
    "model.add(Conv2D(256,(3,3),input_shape=data.shape[1:],kernel_initializer='orthogonal'))\n",
    "model.add(BatchNormalization())\n",
    "model.add(Activation('relu'))\n",
    "model.add(MaxPooling2D(pool_size=(2,2)))\n",
    "\n",
    "model.add(Conv2D(128,(3,3),kernel_initializer='orthogonal'))\n",
    "#model.add(BatchNormalization())\n",
    "model.add(Activation('relu'))\n",
    "model.add(MaxPooling2D(pool_size=(2,2)))\n",
    "\n",
    "model.add(Conv2D(64,(3,3)))\n",
    "#model.add(BatchNormalization())\n",
    "model.add(Activation('relu'))\n",
    "model.add(MaxPooling2D(pool_size=(2,2)))\n",
    "\n",
    "model.add(Flatten())\n",
    "model.add(Dropout(0.5))\n",
    "model.add(Dense(32,activation='relu'))\n",
    "model.add(Dense(2,activation='softmax'))\n",
    "model.compile(loss='categorical_crossentropy',optimizer='adam',metrics=['accuracy'])\n",
    "\n",
    "model.summary()"
   ]
  },
  {
   "cell_type": "code",
   "execution_count": 41,
   "id": "cce5c2bf",
   "metadata": {},
   "outputs": [],
   "source": [
    "from sklearn.model_selection import train_test_split\n",
    "\n",
    "train_data,test_data,train_target,test_target=train_test_split(data,target,test_size=0.1)"
   ]
  },
  {
   "cell_type": "code",
   "execution_count": 42,
   "id": "75db455f",
   "metadata": {},
   "outputs": [],
   "source": [
    "from keras.callbacks import ModelCheckpoint\n",
    "\n",
    "checkpoint = ModelCheckpoint('models/model={epoch:03d}.h5',monitor='val_loss', save_best_only=True,mode='auto')"
   ]
  },
  {
   "cell_type": "code",
   "execution_count": 45,
   "id": "3d0bc295",
   "metadata": {},
   "outputs": [
    {
     "name": "stdout",
     "output_type": "stream",
     "text": [
      "Epoch 1/10\n",
      "21/21 [==============================] - 132s 6s/step - loss: 0.0369 - accuracy: 0.9835 - val_loss: 0.4999 - val_accuracy: 0.9067\n",
      "Epoch 2/10\n",
      "21/21 [==============================] - 133s 6s/step - loss: 0.0252 - accuracy: 0.9910 - val_loss: 0.5159 - val_accuracy: 0.8400\n",
      "Epoch 3/10\n",
      "21/21 [==============================] - 133s 6s/step - loss: 0.0057 - accuracy: 1.0000 - val_loss: 0.4244 - val_accuracy: 0.8933\n",
      "Epoch 4/10\n",
      "21/21 [==============================] - 132s 6s/step - loss: 0.0164 - accuracy: 0.9925 - val_loss: 0.3240 - val_accuracy: 0.9333\n",
      "Epoch 5/10\n",
      "21/21 [==============================] - 131s 6s/step - loss: 0.0168 - accuracy: 0.9970 - val_loss: 0.3328 - val_accuracy: 0.9200\n",
      "Epoch 6/10\n",
      "21/21 [==============================] - 129s 6s/step - loss: 0.0173 - accuracy: 0.9970 - val_loss: 0.1417 - val_accuracy: 0.9867\n",
      "Epoch 7/10\n",
      "21/21 [==============================] - 129s 6s/step - loss: 0.0098 - accuracy: 0.9955 - val_loss: 0.2362 - val_accuracy: 0.9333\n",
      "Epoch 8/10\n",
      "21/21 [==============================] - 129s 6s/step - loss: 0.0265 - accuracy: 0.9895 - val_loss: 0.2065 - val_accuracy: 0.9867\n",
      "Epoch 9/10\n",
      "21/21 [==============================] - 130s 6s/step - loss: 0.0094 - accuracy: 1.0000 - val_loss: 0.1329 - val_accuracy: 0.9733\n",
      "Epoch 10/10\n",
      "21/21 [==============================] - 130s 6s/step - loss: 0.0043 - accuracy: 0.9985 - val_loss: 0.0682 - val_accuracy: 0.9867\n"
     ]
    }
   ],
   "source": [
    "\n",
    "history= model.fit(train_data,train_target,validation_data=(test_data,test_target),epochs=10,callbacks=[checkpoint])\n",
    "#history= model.fit(train_data,train_target,validation_data=(test_data,test_target),epochs=10)"
   ]
  },
  {
   "cell_type": "code",
   "execution_count": 46,
   "id": "a211341c",
   "metadata": {},
   "outputs": [],
   "source": [
    "model.save('CNNM422.h5')"
   ]
  },
  {
   "cell_type": "code",
   "execution_count": 13,
   "id": "f6e691c1",
   "metadata": {},
   "outputs": [
    {
     "ename": "ModuleNotFoundError",
     "evalue": "No module named 'matplotlib'",
     "output_type": "error",
     "traceback": [
      "\u001b[1;31m---------------------------------------------------------------------------\u001b[0m",
      "\u001b[1;31mModuleNotFoundError\u001b[0m                       Traceback (most recent call last)",
      "Input \u001b[1;32mIn [13]\u001b[0m, in \u001b[0;36m<cell line: 1>\u001b[1;34m()\u001b[0m\n\u001b[1;32m----> 1\u001b[0m \u001b[38;5;28;01mfrom\u001b[39;00m \u001b[38;5;21;01mmatplotlib\u001b[39;00m \u001b[38;5;28;01mimport\u001b[39;00m pyplot \u001b[38;5;28;01mas\u001b[39;00m plt\n\u001b[0;32m      3\u001b[0m plt\u001b[38;5;241m.\u001b[39mplot(history\u001b[38;5;241m.\u001b[39mhistory[\u001b[38;5;124m'\u001b[39m\u001b[38;5;124mloss\u001b[39m\u001b[38;5;124m'\u001b[39m])\n\u001b[0;32m      4\u001b[0m plt\u001b[38;5;241m.\u001b[39mplot(history\u001b[38;5;241m.\u001b[39mhistory[\u001b[38;5;124m'\u001b[39m\u001b[38;5;124mval_loss\u001b[39m\u001b[38;5;124m'\u001b[39m])\n",
      "\u001b[1;31mModuleNotFoundError\u001b[0m: No module named 'matplotlib'"
     ]
    }
   ],
   "source": [
    "from matplotlib import pyplot as plt\n",
    "\n",
    "plt.plot(history.history['loss'])\n",
    "plt.plot(history.history['val_loss'])"
   ]
  },
  {
   "cell_type": "code",
   "execution_count": 28,
   "id": "0199c4c9",
   "metadata": {},
   "outputs": [
    {
     "data": {
      "text/plain": [
       "[<matplotlib.lines.Line2D at 0x1ae80e90e20>]"
      ]
     },
     "execution_count": 28,
     "metadata": {},
     "output_type": "execute_result"
    },
    {
     "data": {
      "image/png": "[encoded data removed]",
      "text/plain": [
       "<Figure size 432x288 with 1 Axes>"
      ]
     },
     "metadata": {
      "needs_background": "light"
     },
     "output_type": "display_data"
    }
   ],
   "source": [
    "plt.plot(history.history['accuracy'])\n",
    "plt.plot(history.history['val_accuracy'])"
   ]
  },
  {
   "cell_type": "code",
   "execution_count": 7,
   "id": "69c5073c",
   "metadata": {},
   "outputs": [],
   "source": [
    "model.save('CNNM.h5')"
   ]
  },
  {
   "cell_type": "code",
   "execution_count": null,
   "id": "0aa10dd9",
   "metadata": {},
   "outputs": [],
   "source": []
  }
 ],
 "metadata": {
  "kernelspec": {
   "display_name": "Python 3 (ipykernel)",
   "language": "python",
   "name": "python3"
  },
  "language_info": {
   "codemirror_mode": {
    "name": "ipython",
    "version": 3
   },
   "file_extension": ".py",
   "mimetype": "text/x-python",
   "name": "python",
   "nbconvert_exporter": "python",
   "pygments_lexer": "ipython3",
   "version": "3.8.13"
  }
 },
 "nbformat": 4,
 "nbformat_minor": 5
}
